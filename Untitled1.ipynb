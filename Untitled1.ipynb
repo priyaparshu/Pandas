{
 "cells": [
  {
   "cell_type": "code",
   "execution_count": 2,
   "metadata": {},
   "outputs": [],
   "source": [
    "import pandas as pd\n"
   ]
  },
  {
   "cell_type": "code",
   "execution_count": 95,
   "metadata": {},
   "outputs": [
    {
     "data": {
      "text/html": [
       "<div>\n",
       "<style scoped>\n",
       "    .dataframe tbody tr th:only-of-type {\n",
       "        vertical-align: middle;\n",
       "    }\n",
       "\n",
       "    .dataframe tbody tr th {\n",
       "        vertical-align: top;\n",
       "    }\n",
       "\n",
       "    .dataframe thead tr th {\n",
       "        text-align: left;\n",
       "    }\n",
       "\n",
       "    .dataframe thead tr:last-of-type th {\n",
       "        text-align: right;\n",
       "    }\n",
       "</style>\n",
       "<table border=\"1\" class=\"dataframe\">\n",
       "  <thead>\n",
       "    <tr>\n",
       "      <th></th>\n",
       "      <th>id</th>\n",
       "      <th>ident</th>\n",
       "      <th>type</th>\n",
       "      <th>name</th>\n",
       "      <th>latitude_deg</th>\n",
       "      <th>elevation_ft</th>\n",
       "      <th>continent</th>\n",
       "      <th>iso_country</th>\n",
       "      <th>iso_region</th>\n",
       "      <th>municipality</th>\n",
       "      <th>scheduled_service</th>\n",
       "      <th>gps_code</th>\n",
       "      <th>iata_code</th>\n",
       "      <th>local_code</th>\n",
       "      <th>home_link</th>\n",
       "      <th>wikipedia_link</th>\n",
       "      <th>keywords</th>\n",
       "    </tr>\n",
       "    <tr>\n",
       "      <th></th>\n",
       "      <th>min</th>\n",
       "      <th>min</th>\n",
       "      <th>min</th>\n",
       "      <th>min</th>\n",
       "      <th>min</th>\n",
       "      <th>min</th>\n",
       "      <th>min</th>\n",
       "      <th>min</th>\n",
       "      <th>min</th>\n",
       "      <th>min</th>\n",
       "      <th>min</th>\n",
       "      <th>min</th>\n",
       "      <th>min</th>\n",
       "      <th>min</th>\n",
       "      <th>min</th>\n",
       "      <th>min</th>\n",
       "      <th>min</th>\n",
       "    </tr>\n",
       "    <tr>\n",
       "      <th>longitude_deg</th>\n",
       "      <th></th>\n",
       "      <th></th>\n",
       "      <th></th>\n",
       "      <th></th>\n",
       "      <th></th>\n",
       "      <th></th>\n",
       "      <th></th>\n",
       "      <th></th>\n",
       "      <th></th>\n",
       "      <th></th>\n",
       "      <th></th>\n",
       "      <th></th>\n",
       "      <th></th>\n",
       "      <th></th>\n",
       "      <th></th>\n",
       "      <th></th>\n",
       "      <th></th>\n",
       "    </tr>\n",
       "  </thead>\n",
       "  <tbody>\n",
       "    <tr>\n",
       "      <th>-74.933601</th>\n",
       "      <td>6523</td>\n",
       "      <td>00A</td>\n",
       "      <td>heliport</td>\n",
       "      <td>Total Rf Heliport</td>\n",
       "      <td>40.070801</td>\n",
       "      <td>11.0</td>\n",
       "      <td>NaN</td>\n",
       "      <td>US</td>\n",
       "      <td>US-PA</td>\n",
       "      <td>Bensalem</td>\n",
       "      <td>no</td>\n",
       "      <td>00A</td>\n",
       "      <td>NaN</td>\n",
       "      <td>00A</td>\n",
       "      <td>NaN</td>\n",
       "      <td>NaN</td>\n",
       "      <td>NaN</td>\n",
       "    </tr>\n",
       "  </tbody>\n",
       "</table>\n",
       "</div>"
      ],
      "text/plain": [
       "                 id ident      type               name latitude_deg  \\\n",
       "                min   min       min                min          min   \n",
       "longitude_deg                                                         \n",
       "-74.933601     6523   00A  heliport  Total Rf Heliport    40.070801   \n",
       "\n",
       "              elevation_ft continent iso_country iso_region municipality  \\\n",
       "                       min       min         min        min          min   \n",
       "longitude_deg                                                              \n",
       "-74.933601            11.0       NaN          US      US-PA     Bensalem   \n",
       "\n",
       "              scheduled_service gps_code iata_code local_code home_link  \\\n",
       "                            min      min       min        min       min   \n",
       "longitude_deg                                                             \n",
       "-74.933601                   no      00A       NaN        00A       NaN   \n",
       "\n",
       "              wikipedia_link keywords  \n",
       "                         min      min  \n",
       "longitude_deg                          \n",
       "-74.933601               NaN      NaN  "
      ]
     },
     "execution_count": 95,
     "metadata": {},
     "output_type": "execute_result"
    }
   ],
   "source": [
    "oo=pd.read_csv(\"/Users/Parshu/Parshu_Pandas/airports.csv\")\n",
    "#oo=pd.read_csv(\"/Users/Parshu/Parshu_Pandas/airports.csv\",skiprows=2)\n",
    "#oo.head(4)\n",
    "#pd.read_table('http://bit/ly/uforeports',sep=',')\n",
    "#(rows,column)\n",
    "#oo.shape\n",
    "#oo.info\n",
    "#oo.type.value_counts(ascending=True,dropna=False)\n",
    "oo.head(6)\n",
    "#oo.sort_values(by=['id','name'])\n",
    "#oo['continent']=='AS'\n",
    "#oo[(oo.continent=='AS') & (oo.iso_country=='SA')]\n",
    "#oo[oo.name.str.contains('Batha')]\n",
    "#type(oo.index)\n",
    "#oo.index[:-1]\n",
    "#oo.set_index('name',inplace=True)\n",
    "#oo.sort_index(inplace=True)\n",
    "#oo.head()\n",
    "#oo.reset_index()\n",
    "#ex1=oo.set_index('name')\n",
    "#ex1\n",
    "#ex1.head()\n",
    "#oo.loc[oo.id==43758]\n",
    "#oo.iloc[43758,6525]\n",
    "oo.loc[oo.ident=='00A'].groupby('longitude_deg').agg({'min'})"
   ]
  },
  {
   "cell_type": "code",
   "execution_count": null,
   "metadata": {},
   "outputs": [],
   "source": []
  },
  {
   "cell_type": "code",
   "execution_count": 74,
   "metadata": {},
   "outputs": [
    {
     "data": {
      "text/plain": [
       "(57214, 18)"
      ]
     },
     "execution_count": 74,
     "metadata": {},
     "output_type": "execute_result"
    }
   ],
   "source": [
    "oo.shape"
   ]
  },
  {
   "cell_type": "code",
   "execution_count": null,
   "metadata": {},
   "outputs": [],
   "source": []
  }
 ],
 "metadata": {
  "kernelspec": {
   "display_name": "Python 3",
   "language": "python",
   "name": "python3"
  },
  "language_info": {
   "codemirror_mode": {
    "name": "ipython",
    "version": 3
   },
   "file_extension": ".py",
   "mimetype": "text/x-python",
   "name": "python",
   "nbconvert_exporter": "python",
   "pygments_lexer": "ipython3",
   "version": "3.7.4"
  }
 },
 "nbformat": 4,
 "nbformat_minor": 2
}
